{
 "cells": [
  {
   "cell_type": "markdown",
   "id": "c8a1a2ca",
   "metadata": {},
   "source": [
    "Roll:No:225229106"
   ]
  },
  {
   "cell_type": "markdown",
   "id": "bcc5c5a3",
   "metadata": {},
   "source": [
    "# Lab 6:Pandas Data Cleaning Part-II"
   ]
  },
  {
   "cell_type": "code",
   "execution_count": 1,
   "id": "f05a6960",
   "metadata": {},
   "outputs": [],
   "source": [
    "import pandas as pd\n",
    "from sklearn.preprocessing import LabelEncoder"
   ]
  },
  {
   "cell_type": "code",
   "execution_count": 2,
   "id": "7cbcabbd",
   "metadata": {},
   "outputs": [],
   "source": [
    "le = LabelEncoder()\n",
    "df = pd.DataFrame(data = {'col1': ['foo','bar','foo','bar'], 'col2': ['x', 'y', 'x', 'z'], 'col3':[1,2,3,4]})"
   ]
  },
  {
   "cell_type": "code",
   "execution_count": 3,
   "id": "95518fe8",
   "metadata": {},
   "outputs": [
    {
     "data": {
      "text/html": [
       "<div>\n",
       "<style scoped>\n",
       "    .dataframe tbody tr th:only-of-type {\n",
       "        vertical-align: middle;\n",
       "    }\n",
       "\n",
       "    .dataframe tbody tr th {\n",
       "        vertical-align: top;\n",
       "    }\n",
       "\n",
       "    .dataframe thead th {\n",
       "        text-align: right;\n",
       "    }\n",
       "</style>\n",
       "<table border=\"1\" class=\"dataframe\">\n",
       "  <thead>\n",
       "    <tr style=\"text-align: right;\">\n",
       "      <th></th>\n",
       "      <th>col1</th>\n",
       "      <th>col2</th>\n",
       "      <th>col3</th>\n",
       "    </tr>\n",
       "  </thead>\n",
       "  <tbody>\n",
       "    <tr>\n",
       "      <th>0</th>\n",
       "      <td>1</td>\n",
       "      <td>0</td>\n",
       "      <td>0</td>\n",
       "    </tr>\n",
       "    <tr>\n",
       "      <th>1</th>\n",
       "      <td>0</td>\n",
       "      <td>1</td>\n",
       "      <td>1</td>\n",
       "    </tr>\n",
       "    <tr>\n",
       "      <th>2</th>\n",
       "      <td>1</td>\n",
       "      <td>0</td>\n",
       "      <td>2</td>\n",
       "    </tr>\n",
       "    <tr>\n",
       "      <th>3</th>\n",
       "      <td>0</td>\n",
       "      <td>2</td>\n",
       "      <td>3</td>\n",
       "    </tr>\n",
       "  </tbody>\n",
       "</table>\n",
       "</div>"
      ],
      "text/plain": [
       "   col1  col2  col3\n",
       "0     1     0     0\n",
       "1     0     1     1\n",
       "2     1     0     2\n",
       "3     0     2     3"
      ]
     },
     "execution_count": 3,
     "metadata": {},
     "output_type": "execute_result"
    }
   ],
   "source": [
    "df.apply(le.fit_transform)"
   ]
  },
  {
   "cell_type": "markdown",
   "id": "2905102f",
   "metadata": {},
   "source": [
    "# One Hot Encoder"
   ]
  },
  {
   "cell_type": "code",
   "execution_count": 4,
   "id": "3d20be06",
   "metadata": {},
   "outputs": [
    {
     "data": {
      "text/html": [
       "<div>\n",
       "<style scoped>\n",
       "    .dataframe tbody tr th:only-of-type {\n",
       "        vertical-align: middle;\n",
       "    }\n",
       "\n",
       "    .dataframe tbody tr th {\n",
       "        vertical-align: top;\n",
       "    }\n",
       "\n",
       "    .dataframe thead th {\n",
       "        text-align: right;\n",
       "    }\n",
       "</style>\n",
       "<table border=\"1\" class=\"dataframe\">\n",
       "  <thead>\n",
       "    <tr style=\"text-align: right;\">\n",
       "      <th></th>\n",
       "      <th>A</th>\n",
       "      <th>B</th>\n",
       "      <th>C</th>\n",
       "    </tr>\n",
       "  </thead>\n",
       "  <tbody>\n",
       "    <tr>\n",
       "      <th>0</th>\n",
       "      <td>a</td>\n",
       "      <td>b</td>\n",
       "      <td>1</td>\n",
       "    </tr>\n",
       "    <tr>\n",
       "      <th>1</th>\n",
       "      <td>b</td>\n",
       "      <td>a</td>\n",
       "      <td>2</td>\n",
       "    </tr>\n",
       "    <tr>\n",
       "      <th>2</th>\n",
       "      <td>a</td>\n",
       "      <td>c</td>\n",
       "      <td>3</td>\n",
       "    </tr>\n",
       "  </tbody>\n",
       "</table>\n",
       "</div>"
      ],
      "text/plain": [
       "   A  B  C\n",
       "0  a  b  1\n",
       "1  b  a  2\n",
       "2  a  c  3"
      ]
     },
     "execution_count": 4,
     "metadata": {},
     "output_type": "execute_result"
    }
   ],
   "source": [
    "import pandas as pd\n",
    "df = pd.DataFrame({'A': ['a','b','a'], 'B': ['b','a','c'], 'C': [1, 2, 3]}) \n",
    "df\n"
   ]
  },
  {
   "cell_type": "code",
   "execution_count": 5,
   "id": "0641eeb0",
   "metadata": {},
   "outputs": [
    {
     "data": {
      "text/html": [
       "<div>\n",
       "<style scoped>\n",
       "    .dataframe tbody tr th:only-of-type {\n",
       "        vertical-align: middle;\n",
       "    }\n",
       "\n",
       "    .dataframe tbody tr th {\n",
       "        vertical-align: top;\n",
       "    }\n",
       "\n",
       "    .dataframe thead th {\n",
       "        text-align: right;\n",
       "    }\n",
       "</style>\n",
       "<table border=\"1\" class=\"dataframe\">\n",
       "  <thead>\n",
       "    <tr style=\"text-align: right;\">\n",
       "      <th></th>\n",
       "      <th>C</th>\n",
       "      <th>col1_a</th>\n",
       "      <th>col1_b</th>\n",
       "      <th>col2_a</th>\n",
       "      <th>col2_b</th>\n",
       "      <th>col2_c</th>\n",
       "    </tr>\n",
       "  </thead>\n",
       "  <tbody>\n",
       "    <tr>\n",
       "      <th>0</th>\n",
       "      <td>1</td>\n",
       "      <td>1</td>\n",
       "      <td>0</td>\n",
       "      <td>0</td>\n",
       "      <td>1</td>\n",
       "      <td>0</td>\n",
       "    </tr>\n",
       "    <tr>\n",
       "      <th>1</th>\n",
       "      <td>2</td>\n",
       "      <td>0</td>\n",
       "      <td>1</td>\n",
       "      <td>1</td>\n",
       "      <td>0</td>\n",
       "      <td>0</td>\n",
       "    </tr>\n",
       "    <tr>\n",
       "      <th>2</th>\n",
       "      <td>3</td>\n",
       "      <td>1</td>\n",
       "      <td>0</td>\n",
       "      <td>0</td>\n",
       "      <td>0</td>\n",
       "      <td>1</td>\n",
       "    </tr>\n",
       "  </tbody>\n",
       "</table>\n",
       "</div>"
      ],
      "text/plain": [
       "   C  col1_a  col1_b  col2_a  col2_b  col2_c\n",
       "0  1       1       0       0       1       0\n",
       "1  2       0       1       1       0       0\n",
       "2  3       1       0       0       0       1"
      ]
     },
     "execution_count": 5,
     "metadata": {},
     "output_type": "execute_result"
    }
   ],
   "source": [
    "pd.get_dummies(df, prefix=['col1','col2'])"
   ]
  },
  {
   "cell_type": "markdown",
   "id": "57986f63",
   "metadata": {},
   "source": [
    "# MinMaxScaler"
   ]
  },
  {
   "cell_type": "code",
   "execution_count": 6,
   "id": "745b3953",
   "metadata": {},
   "outputs": [
    {
     "data": {
      "text/plain": [
       "array([[1.        , 1.        , 0.        ],\n",
       "       [0.36111111, 0.        , 0.83333333],\n",
       "       [0.        , 0.22368421, 1.        ]])"
      ]
     },
     "execution_count": 6,
     "metadata": {},
     "output_type": "execute_result"
    }
   ],
   "source": [
    "from sklearn.preprocessing import MinMaxScaler\n",
    "mm_scaler = MinMaxScaler(feature_range = (0,1)) # (0,1 ) is default range\n",
    "df2 = pd.DataFrame({'col1':[5,-41, -67],\n",
    " 'col2': [23, - 53, -36],\n",
    " 'col3': [-25,10, 17]})\n",
    "mm_scaler.fit_transform(df2)"
   ]
  },
  {
   "cell_type": "markdown",
   "id": "5a6143dc",
   "metadata": {},
   "source": [
    "# Binarizer\n"
   ]
  },
  {
   "cell_type": "code",
   "execution_count": 7,
   "id": "3fea134c",
   "metadata": {},
   "outputs": [
    {
     "data": {
      "text/plain": [
       "array([[0, 0, 1],\n",
       "       [0, 1, 1]], dtype=int64)"
      ]
     },
     "execution_count": 7,
     "metadata": {},
     "output_type": "execute_result"
    }
   ],
   "source": [
    "from sklearn.preprocessing import Binarizer\n",
    "dfb = pd.DataFrame({'col1': [110, 200], \n",
    " 'col2': [120, 800], \n",
    " 'col3': [310, 400]})\n",
    "bin = Binarizer(threshold=300)\n",
    "bin.fit_transform(dfb)\n"
   ]
  },
  {
   "cell_type": "markdown",
   "id": "4507c67d",
   "metadata": {},
   "source": [
    "# Imputer"
   ]
  },
  {
   "cell_type": "code",
   "execution_count": 8,
   "id": "53097023",
   "metadata": {},
   "outputs": [
    {
     "name": "stdout",
     "output_type": "stream",
     "text": [
      "   col1  col2  col3  col4\n",
      "0     7   4.0   NaN  10.0\n",
      "1     2   NaN   NaN   NaN\n",
      "2     3   6.0   3.0   9.0\n"
     ]
    },
    {
     "data": {
      "text/plain": [
       "array([[ 7. ,  4. ,  3. , 10. ],\n",
       "       [ 2. ,  5. ,  3. ,  9.5],\n",
       "       [ 3. ,  6. ,  3. ,  9. ]])"
      ]
     },
     "execution_count": 8,
     "metadata": {},
     "output_type": "execute_result"
    }
   ],
   "source": [
    "import numpy as np\n",
    "from sklearn.impute import SimpleImputer\n",
    "import pandas as pd\n",
    "imp_mean = SimpleImputer(missing_values=np.nan, strategy='mean')\n",
    "df = pd.DataFrame({'col1': [7, 2, 3], \n",
    " 'col2': [4, np.nan, 6], \n",
    " 'col3': [np.nan, np.nan, 3],\n",
    " 'col4': [10, np.nan, 9]})\n",
    "print(df)\n",
    "imp_mean.fit_transform(df)"
   ]
  },
  {
   "cell_type": "markdown",
   "id": "d74828ce",
   "metadata": {},
   "source": [
    "# De-duplication or Entity Resolution and String Matching\n"
   ]
  },
  {
   "cell_type": "markdown",
   "id": "66d07a23",
   "metadata": {},
   "source": [
    "### fuzzywuzzy"
   ]
  },
  {
   "cell_type": "code",
   "execution_count": 10,
   "id": "40423788",
   "metadata": {},
   "outputs": [
    {
     "name": "stdout",
     "output_type": "stream",
     "text": [
      "Ratio = 55\n",
      "Weighted ratio = 86\n",
      "Unicode ratio = 55\n"
     ]
    }
   ],
   "source": [
    "import warnings\n",
    "warnings.filterwarnings('ignore')\n",
    "from fuzzywuzzy import fuzz\n",
    "from fuzzywuzzy import process\n",
    "a = 'Welcome to Bishop Heber College'\n",
    "b = 'I am Sam pursuing Masters in DataScience at Bishop Heber College'\n",
    "ratio = fuzz.ratio(a, b)\n",
    "weighted_ratio = fuzz.WRatio(a, b)\n",
    "unicode_ratio = fuzz.UQRatio(a, b)\n",
    "print('Ratio =', ratio)\n",
    "print('Weighted ratio =', weighted_ratio)\n",
    "print('Unicode ratio =', unicode_ratio)\n"
   ]
  },
  {
   "cell_type": "code",
   "execution_count": 11,
   "id": "79c5b192",
   "metadata": {},
   "outputs": [],
   "source": [
    "c = a + b\n"
   ]
  },
  {
   "cell_type": "code",
   "execution_count": 12,
   "id": "ac660c3e",
   "metadata": {},
   "outputs": [
    {
     "data": {
      "text/plain": [
       "[('i', 100), ('I', 100), ('i', 100), ('i', 100), ('i', 100)]"
      ]
     },
     "execution_count": 12,
     "metadata": {},
     "output_type": "execute_result"
    }
   ],
   "source": [
    "ex_tract = process.extract('I', c)\n",
    "ex_tract"
   ]
  },
  {
   "cell_type": "code",
   "execution_count": 13,
   "id": "9621beca",
   "metadata": {},
   "outputs": [
    {
     "data": {
      "text/plain": [
       "('i', 100)"
      ]
     },
     "execution_count": 13,
     "metadata": {},
     "output_type": "execute_result"
    }
   ],
   "source": [
    "ex_tract_1 = process.extractOne('I', c)\n",
    "ex_tract_1"
   ]
  },
  {
   "cell_type": "code",
   "execution_count": null,
   "id": "9c1ab7ff",
   "metadata": {},
   "outputs": [],
   "source": []
  }
 ],
 "metadata": {
  "kernelspec": {
   "display_name": "Python 3 (ipykernel)",
   "language": "python",
   "name": "python3"
  },
  "language_info": {
   "codemirror_mode": {
    "name": "ipython",
    "version": 3
   },
   "file_extension": ".py",
   "mimetype": "text/x-python",
   "name": "python",
   "nbconvert_exporter": "python",
   "pygments_lexer": "ipython3",
   "version": "3.9.12"
  }
 },
 "nbformat": 4,
 "nbformat_minor": 5
}
